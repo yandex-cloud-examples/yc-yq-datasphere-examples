{
 "cells": [
  {
   "cell_type": "markdown",
   "id": "fae492f3",
   "metadata": {},
   "source": [
    "# Работа с Yandex Query в Yandex DataSphere\n",
    "\n",
    "Работа с Yandex Query производится с помощью пакета [`yandex_query_magics`](https://github.com/yandex-cloud/yandex-query-magics), предоставляющего Jupyter notebook magic commands `%yq` и `%%yq`. \n",
    "\n",
    "1. [Подготовка окружения](#environment)\n",
    "2. [Выполнение запросов](#basic_query)\n",
    "3. [Захват переменных](#capture)\n",
    "4. [Аргументы команд](#arguments)\n",
    "\n",
    "Подробное описание работы с пакетом yandex_query_magics приведено в [документации Облака](https://cloud.yandex.ru/ru/docs/query/tutorials/jupyter#capture-command-result)."
   ]
  },
  {
   "cell_type": "markdown",
   "id": "35ae8813",
   "metadata": {},
   "source": [
    "<a id='environment'></a>\n",
    "## 1. Подготовка окружения\n",
    "\n",
    "Для начала работы с Yandex Query необходимо установить пакет `yandex_query_magic`, который предоставляет magic command для работы в Jupyter."
   ]
  },
  {
   "cell_type": "code",
   "execution_count": null,
   "id": "71cecaf5",
   "metadata": {},
   "outputs": [],
   "source": [
    "%pip install yandex_query_magic"
   ]
  },
  {
   "cell_type": "markdown",
   "id": "72251652",
   "metadata": {},
   "source": [
    "Загрузите extension:"
   ]
  },
  {
   "cell_type": "code",
   "execution_count": null,
   "id": "3de3c9c7",
   "metadata": {},
   "outputs": [],
   "source": [
    "%load_ext yandex_query_magic"
   ]
  },
  {
   "cell_type": "markdown",
   "id": "5321056e",
   "metadata": {},
   "source": [
    "Настройте параметры подключения к Yandex Query\n",
    "\n",
    "- [Создайте](https://cloud.yandex.ru/ru/docs/iam/operations/authorized-key/create) авторизованный ключ доступа в консоли Облака с правами `editor` и [поместите его в переменную окружения Data Sphere](https://cloud.yandex.com/ru/docs/datasphere/operations/data/secrets) `yq_access_key`, как показано на изображении.\n",
    "\n",
    "<img src=\"https://storage.yandexcloud.net/yq-public-resources/ds-jupyter-doc/new_secret.png\" width=\"500\"/>\n",
    "\n",
    "- Установите фолдер, в котором вы хотите запускать запросы к Yandex Query, с помощью параметра `folder-id`\n",
    "\n",
    "- Выполните команду настройки подключения"
   ]
  },
  {
   "cell_type": "code",
   "execution_count": null,
   "id": "ede917dd",
   "metadata": {},
   "outputs": [],
   "source": [
    "%yq_settings --folder-id <идентификатор_фолдера> --env-auth yq_access_key"
   ]
  },
  {
   "cell_type": "markdown",
   "id": "42ca6f5d",
   "metadata": {},
   "source": [
    "Создайте подключение к Object Storage. Подключение описывает информацию для авторизации в Object Storage. Для создания подключения укажите название существующего бакета в Object Storage. \n",
    "\n",
    "Данные примеров Yandex Query расположены в бакете, не требующем аутентификации, поэтому в пункте \"Аутентификация бакета\" выберите `Публичный`. Если же вы подключаетесь к собственному бакету с включенной авторизацией, выберите пункт \"Приватный\" и выберите в пункте \"Сервисный аккаунт\" аккаунт, от имени которого будет выполняться доступ к данным внутри бакета. \n",
    "\n",
    "<img src=\"https://storage.yandexcloud.net/yq-public-resources/ds-jupyter-doc/create-tutorial-connection.png\" width=\"500\"/>"
   ]
  },
  {
   "cell_type": "markdown",
   "id": "4aecebf4",
   "metadata": {},
   "source": [
    "Создайте привязку к данным в Object Storage. Привязка к данным содержит информацию о форматах и расположении файлов в бакете, а также о списке полей в данных и их типах.\n",
    "\n",
    "Для создания привязки к данным указываются название подключения, которое будет использоваться для доступа к данным, путь к данным и формат данных внутри бакета Object Storage, а также список колонок внутри файлов.\n",
    "\n",
    "Настройте привязку к данным, как показано на следующем изображении. После ввода всех параметров нажмите кнопку \"Предпросмотр\" для проверки, что все параметры указаны корректно. \n",
    "\n",
    "<img src=\"https://storage.yandexcloud.net/yq-public-resources/ds-jupyter-doc/create-tutorial-binding.png\" width=\"500\"/>"
   ]
  },
  {
   "cell_type": "markdown",
   "id": "f2d97a56",
   "metadata": {},
   "source": [
    "Выполните тестовый запрос:"
   ]
  },
  {
   "cell_type": "code",
   "execution_count": null,
   "id": "f0d00c0a",
   "metadata": {},
   "outputs": [],
   "source": [
    "%yq SELECT * FROM yq_tutorial LIMIT 100;"
   ]
  },
  {
   "cell_type": "markdown",
   "id": "f28c5e7b",
   "metadata": {},
   "source": [
    "<a id='basic_query'></a>\n",
    "## 2. Выполнение запросов"
   ]
  },
  {
   "cell_type": "markdown",
   "id": "f274344c",
   "metadata": {},
   "source": [
    "Запросы к Yandex Query можно выполнять с помощь line-команды `%yq` или с помощью cell-команды `%%yq`. С помощью line-команды `%yq` удобно выполнять однострочные запросы, а с помощью cell-команды `%%yq` запросы любого размера."
   ]
  },
  {
   "cell_type": "code",
   "execution_count": null,
   "id": "7d80cf0c",
   "metadata": {},
   "outputs": [],
   "source": [
    "%yq SELECT * FROM yq_tutorial LIMIT 100;"
   ]
  },
  {
   "cell_type": "code",
   "execution_count": null,
   "id": "afc29998",
   "metadata": {},
   "outputs": [],
   "source": [
    "%%yq\n",
    "SELECT \n",
    "    * \n",
    "FROM \n",
    "    `yq_tutorial` LIMIT 100;"
   ]
  },
  {
   "cell_type": "markdown",
   "id": "99b93c90",
   "metadata": {},
   "source": [
    "Результат запроса можно присвоить переменной Python с помощью операции присваивания. По умолчанию результатом исполнения команды является объекты типа `pandas.DataFrame`."
   ]
  },
  {
   "cell_type": "code",
   "execution_count": null,
   "id": "c9808a75",
   "metadata": {},
   "outputs": [],
   "source": [
    "result = %yq SELECT * FROM yq_tutorial LIMIT 100;"
   ]
  },
  {
   "cell_type": "code",
   "execution_count": null,
   "id": "881f5964",
   "metadata": {},
   "outputs": [],
   "source": [
    "print(result.info())"
   ]
  },
  {
   "cell_type": "markdown",
   "id": "47193f38",
   "metadata": {},
   "source": [
    "Присваивать результат исполнения в переменную можно и для cell-команды. "
   ]
  },
  {
   "cell_type": "code",
   "execution_count": null,
   "id": "7a2d1e15",
   "metadata": {},
   "outputs": [],
   "source": [
    "result = %%yq \n",
    "SELECT \n",
    "  * \n",
    "FROM `yq_tutorial` LIMIT 100;"
   ]
  },
  {
   "cell_type": "markdown",
   "id": "2e3f0c9a",
   "metadata": {},
   "source": [
    "<a id='capture'></a>\n",
    "\n",
    "## 3. Захват переменных\n",
    "\n",
    "При работе с Yandex Query можно выполнять \"захват переменных\" при указании текста запроса. Захват переменных это режим работы, когда объявленная вне запроса переменная Jupyter используется как часть запроса. В примере ниже отдельно объявляется переменная `table_name`, а потом она используется как часть текста запроса."
   ]
  },
  {
   "cell_type": "code",
   "execution_count": null,
   "id": "c6e0562d",
   "metadata": {},
   "outputs": [],
   "source": [
    "table_name = \"yq_tutorial\""
   ]
  },
  {
   "cell_type": "code",
   "execution_count": null,
   "id": "7758cb49",
   "metadata": {},
   "outputs": [],
   "source": [
    "%yq SELECT * FROM {{table_name}} LIMIT 100"
   ]
  },
  {
   "cell_type": "markdown",
   "id": "d3efa2fe",
   "metadata": {},
   "source": [
    "Захватывать можно не только простые типы данных, но и сложные: списки, словари. В этом случае python-типы данных будут переведены в соответствующие конструкции языка [YQL](https://ydb.tech/docs/ru/yql/reference/). Например, Python list будет переведен в YQL-тип `List`, а SQL запрос ниже будет переведен в следующее YQL-выражение: `SELECT * FROM yq_tutorial where trip_distance in AsList(7.6,2.22) LIMIT 100`."
   ]
  },
  {
   "cell_type": "code",
   "execution_count": null,
   "id": "861b26d7",
   "metadata": {},
   "outputs": [],
   "source": [
    "distances = [7.60, 2.22]"
   ]
  },
  {
   "cell_type": "code",
   "execution_count": null,
   "id": "b41af810",
   "metadata": {},
   "outputs": [],
   "source": [
    "%yq SELECT * FROM yq_tutorial where trip_distance in {{distances}} LIMIT 100"
   ]
  },
  {
   "cell_type": "markdown",
   "id": "77a50996",
   "metadata": {},
   "source": [
    "Кроме списков можно захватывать и словари Python."
   ]
  },
  {
   "cell_type": "code",
   "execution_count": null,
   "id": "6486a24a",
   "metadata": {},
   "outputs": [],
   "source": [
    "dct = {\"a\": \"1\", \"b\": \"2\", \"c\": \"test\", \"d\": \"4\"}"
   ]
  },
  {
   "cell_type": "code",
   "execution_count": null,
   "id": "2263b3a5",
   "metadata": {},
   "outputs": [],
   "source": [
    "%yq SELECT \"a\" in {{dct}}"
   ]
  },
  {
   "cell_type": "markdown",
   "id": "de476ed6",
   "metadata": {},
   "source": [
    "<a id='arguments'></a>\n",
    "\n",
    "## 4. Аргументы команд\n",
    "\n",
    "При работе с cell и line-командами можно использовать дополнительные аргументы.\n",
    "- --name \"Название запроса\"\n",
    "- --raw-results\n"
   ]
  },
  {
   "cell_type": "code",
   "execution_count": null,
   "id": "5c2477bd",
   "metadata": {},
   "outputs": [],
   "source": [
    "%yq --name \"Название запроса\" --raw-results SELECT \"Hello, world!\" "
   ]
  },
  {
   "cell_type": "markdown",
   "id": "70695af3",
   "metadata": {},
   "source": [
    "Подробнее про работу с Yandex Query из Jupyter Notebook'ов описано в [документации Yandex Query](https://cloud.yandex.ru/ru/docs/query/tutorials/jupyter)."
   ]
  }
 ],
 "metadata": {
  "kernelspec": {
   "display_name": "Python 3 (ipykernel)",
   "language": "python",
   "name": "python3"
  },
  "language_info": {
   "codemirror_mode": {
    "name": "ipython",
    "version": 3
   },
   "file_extension": ".py",
   "mimetype": "text/x-python",
   "name": "python",
   "nbconvert_exporter": "python",
   "pygments_lexer": "ipython3",
   "version": "3.11.7"
  }
 },
 "nbformat": 4,
 "nbformat_minor": 5
}
