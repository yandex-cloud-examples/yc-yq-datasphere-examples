{
 "cells": [
  {
   "cell_type": "markdown",
   "id": "2b801e93-d103-45e0-a055-3f770ab0952e",
   "metadata": {},
   "source": [
    "# Работа с Yandex Query"
   ]
  },
  {
   "cell_type": "markdown",
   "id": "6195cef3-6dca-4dc5-bb15-98dd2e1d172f",
   "metadata": {},
   "source": [
    "<a id='before-begin'></a>\n",
    "## Перед началом работы\n",
    "Прежде чем запускать этот ноутбук, в [консоли управления](https://console.yandex.cloud/) создайте:\n",
    "\n",
    "1. Каталог, в котором будет работать Yandex Query.\n",
    "1. Сервисный аккаунт с ролью `yq.editor`.\n",
    "1. Авторизованный ключ для сервисного аккаунта.\n",
    "\n",
    "В интерфейсе DataSphere создайте секрет `yq_access_key`со всем содержимым файла авторизованного ключа.\n",
    "\n",
    "Для подключения к источнику данных создайте: \n",
    "1. Хранилище данных — Object Storage, Managed ClickHouse или Managed PostgreSQL.\n",
    "1. Подключение к хранилищу данных из Yandex Query."
   ]
  },
  {
   "cell_type": "markdown",
   "id": "afbdcea8-3ecf-409b-bec4-70fa7f189346",
   "metadata": {},
   "source": [
    "## 2. Начало работы с Yandex Query"
   ]
  },
  {
   "cell_type": "code",
   "execution_count": null,
   "id": "ca3d4daa-8f9d-4d89-b94f-86742bb1736f",
   "metadata": {},
   "outputs": [],
   "source": [
    "%pip install yandex_query_magic"
   ]
  },
  {
   "cell_type": "markdown",
   "id": "54c86ec0-3261-49d0-89c5-08b55be65ffe",
   "metadata": {},
   "source": [
    "После завершения установки на верхней панели выберите **Kernel** ⟶ **Restart kernel...**."
   ]
  },
  {
   "cell_type": "code",
   "execution_count": null,
   "id": "cd50add9-190c-4e8d-8fc8-6b7c04084adb",
   "metadata": {},
   "outputs": [],
   "source": [
    "%load_ext yandex_query_magic"
   ]
  },
  {
   "cell_type": "code",
   "execution_count": null,
   "id": "0bfcaf2a-07df-4db9-886f-00f6705a3dcb",
   "metadata": {},
   "outputs": [],
   "source": [
    "%yq_settings --folder-id <идентификатор_каталога> --env-auth yq_access_key"
   ]
  },
  {
   "cell_type": "code",
   "execution_count": null,
   "id": "2f17e79d-5385-4fa7-aa1d-6f714883f94f",
   "metadata": {},
   "outputs": [],
   "source": [
    "%yq select \"Hello, world!\""
   ]
  },
  {
   "cell_type": "markdown",
   "id": "6474ba01-d23e-4cfe-8110-3ee1be87db70",
   "metadata": {},
   "source": [
    "## 3. Запросы к источникам данных"
   ]
  },
  {
   "cell_type": "markdown",
   "id": "8dda6ddb-e025-43d4-8791-649b9b8f27bb",
   "metadata": {
    "tags": []
   },
   "source": [
    "### Managed ClickHouse или Managed PostgreSQL\n",
    "\n",
    "Подставьте название подключения и таблицы:"
   ]
  },
  {
   "cell_type": "code",
   "execution_count": null,
   "id": "4b0580ca-4c77-438b-b210-1fc3ea904395",
   "metadata": {},
   "outputs": [],
   "source": [
    "%yq SELECT * FROM <имя_подключения>.<имя_таблицы>"
   ]
  },
  {
   "cell_type": "markdown",
   "id": "3a1ba5a0-59d7-41e8-8378-9f50bd87b786",
   "metadata": {
    "tags": []
   },
   "source": [
    "### Object Storage\n",
    "\n",
    "Чтобы выполнить простой запрос, подставьте название привязки:"
   ]
  },
  {
   "cell_type": "code",
   "execution_count": null,
   "id": "91ae7efb-9221-4dcd-99c0-55bd5d04e14c",
   "metadata": {},
   "outputs": [],
   "source": [
    "%yq SELECT * FROM <имя_привязки> LIMIT 100;"
   ]
  },
  {
   "cell_type": "markdown",
   "id": "12388cfc-3869-4f0a-8778-2e8058731f31",
   "metadata": {},
   "source": [
    "Чтобы выполнить запрос к привязке с настроенным партицированием, подставьте название привязки и требуемый год (месяц):"
   ]
  },
  {
   "cell_type": "code",
   "execution_count": null,
   "id": "63c5df6f-e952-4a65-a569-0ac1bf751ffb",
   "metadata": {},
   "outputs": [],
   "source": [
    "%yq SELECT * FROM <имя_привязки> WHERE year=<месяц_или_год>"
   ]
  },
  {
   "cell_type": "markdown",
   "id": "23c1adf8-869e-431c-acf9-e1cd246c09f9",
   "metadata": {},
   "source": [
    "## Федеративные запросы\n",
    "\n",
    "Подставьте названия подключений:"
   ]
  },
  {
   "cell_type": "code",
   "execution_count": null,
   "id": "89d321fa-36f5-40a2-a1c5-3eb6143ddfd0",
   "metadata": {},
   "outputs": [],
   "source": [
    "%%yq SELECT\n",
    "    v.person_id,\n",
    "    date,\n",
    "    p.name,\n",
    "    c.description\n",
    "FROM <имя_привязки_к_Object_Storage> AS v\n",
    "    INNER JOIN <имя_подключения_к_PostgreSQL>.persons AS p ON\n",
    "        v.person_id = p.person_id\n",
    "    INNER JOIN <имя_подключения_к_ClickHouse>.items AS c ON\n",
    "        v.item_id = c.id"
   ]
  }
 ],
 "metadata": {
  "kernelspec": {
   "display_name": "DataSphere Kernel",
   "language": "python",
   "name": "python3"
  },
  "language_info": {
   "codemirror_mode": {
    "name": "ipython",
    "version": 3
   },
   "file_extension": ".py",
   "mimetype": "text/x-python",
   "name": "python",
   "nbconvert_exporter": "python",
   "pygments_lexer": "ipython3",
   "version": "3.10.12"
  }
 },
 "nbformat": 4,
 "nbformat_minor": 5
}
